{
 "cells": [
  {
   "cell_type": "code",
   "execution_count": 3,
   "metadata": {},
   "outputs": [
    {
     "name": "stdout",
     "output_type": "stream",
     "text": [
      "Requirement already satisfied: seaborn in d:\\anaconda3\\lib\\site-packages (0.11.0)\n",
      "Requirement already satisfied: numpy>=1.15 in d:\\anaconda3\\lib\\site-packages (from seaborn) (1.19.2)\n",
      "Requirement already satisfied: pandas>=0.23 in d:\\anaconda3\\lib\\site-packages (from seaborn) (1.1.3)\n",
      "Requirement already satisfied: scipy>=1.0 in d:\\anaconda3\\lib\\site-packages (from seaborn) (1.5.2)\n",
      "Requirement already satisfied: matplotlib>=2.2 in d:\\anaconda3\\lib\\site-packages (from seaborn) (3.3.2)\n",
      "Requirement already satisfied: pytz>=2017.2 in d:\\anaconda3\\lib\\site-packages (from pandas>=0.23->seaborn) (2020.1)\n",
      "Requirement already satisfied: python-dateutil>=2.7.3 in d:\\anaconda3\\lib\\site-packages (from pandas>=0.23->seaborn) (2.8.1)\n",
      "Requirement already satisfied: pyparsing!=2.0.4,!=2.1.2,!=2.1.6,>=2.0.3 in d:\\anaconda3\\lib\\site-packages (from matplotlib>=2.2->seaborn) (2.4.7)\n",
      "Requirement already satisfied: kiwisolver>=1.0.1 in d:\\anaconda3\\lib\\site-packages (from matplotlib>=2.2->seaborn) (1.3.0)\n",
      "Requirement already satisfied: certifi>=2020.06.20 in d:\\anaconda3\\lib\\site-packages (from matplotlib>=2.2->seaborn) (2022.9.24)\n",
      "Requirement already satisfied: pillow>=6.2.0 in d:\\anaconda3\\lib\\site-packages (from matplotlib>=2.2->seaborn) (8.0.1)\n",
      "Requirement already satisfied: cycler>=0.10 in d:\\anaconda3\\lib\\site-packages (from matplotlib>=2.2->seaborn) (0.10.0)\n",
      "Requirement already satisfied: six>=1.5 in d:\\anaconda3\\lib\\site-packages (from python-dateutil>=2.7.3->pandas>=0.23->seaborn) (1.15.0)\n",
      "Note: you may need to restart the kernel to use updated packages.\n"
     ]
    }
   ],
   "source": [
    "import pandas as pd\n",
    "import numpy as np\n",
    "%pip install seaborn\n",
    "import seaborn as sns\n",
    "%matplotlib inline\n",
    "import matplotlib.pyplot as plt"
   ]
  },
  {
   "cell_type": "code",
   "execution_count": 4,
   "metadata": {},
   "outputs": [
    {
     "data": {
      "text/html": [
       "<div>\n",
       "<style scoped>\n",
       "    .dataframe tbody tr th:only-of-type {\n",
       "        vertical-align: middle;\n",
       "    }\n",
       "\n",
       "    .dataframe tbody tr th {\n",
       "        vertical-align: top;\n",
       "    }\n",
       "\n",
       "    .dataframe thead th {\n",
       "        text-align: right;\n",
       "    }\n",
       "</style>\n",
       "<table border=\"1\" class=\"dataframe\">\n",
       "  <thead>\n",
       "    <tr style=\"text-align: right;\">\n",
       "      <th></th>\n",
       "      <th>resp_id</th>\n",
       "      <th>WFH_PRE</th>\n",
       "      <th>Job_Clerical or administrative support</th>\n",
       "      <th>Job_Manufacturing, construction, maintenance, or farming</th>\n",
       "      <th>Job_Professional, managerial, or technical</th>\n",
       "      <th>Job_Sales or service</th>\n",
       "      <th>Workload_increased</th>\n",
       "      <th>Workload_decreased</th>\n",
       "      <th>Increased_productivity</th>\n",
       "      <th>Decreased_productivity</th>\n",
       "      <th>hhveh_harm</th>\n",
       "      <th>age</th>\n",
       "      <th>gender</th>\n",
       "      <th>Number_bedrooms</th>\n",
       "      <th>Race_white</th>\n",
       "      <th>Gradutae_degree</th>\n",
       "      <th>High_income(LessThan_100K)</th>\n",
       "      <th>More_income(LMoreThan_35K)</th>\n",
       "      <th>ProEnvironment</th>\n",
       "    </tr>\n",
       "  </thead>\n",
       "  <tbody>\n",
       "    <tr>\n",
       "      <th>0</th>\n",
       "      <td>11</td>\n",
       "      <td>0</td>\n",
       "      <td>0</td>\n",
       "      <td>0</td>\n",
       "      <td>0</td>\n",
       "      <td>0</td>\n",
       "      <td>1</td>\n",
       "      <td>0</td>\n",
       "      <td>1</td>\n",
       "      <td>0</td>\n",
       "      <td>2</td>\n",
       "      <td>44</td>\n",
       "      <td>1</td>\n",
       "      <td>5</td>\n",
       "      <td>1</td>\n",
       "      <td>0</td>\n",
       "      <td>0</td>\n",
       "      <td>0</td>\n",
       "      <td>1</td>\n",
       "    </tr>\n",
       "    <tr>\n",
       "      <th>1</th>\n",
       "      <td>29</td>\n",
       "      <td>1</td>\n",
       "      <td>0</td>\n",
       "      <td>0</td>\n",
       "      <td>1</td>\n",
       "      <td>0</td>\n",
       "      <td>0</td>\n",
       "      <td>0</td>\n",
       "      <td>0</td>\n",
       "      <td>1</td>\n",
       "      <td>1</td>\n",
       "      <td>39</td>\n",
       "      <td>1</td>\n",
       "      <td>2</td>\n",
       "      <td>1</td>\n",
       "      <td>1</td>\n",
       "      <td>0</td>\n",
       "      <td>1</td>\n",
       "      <td>1</td>\n",
       "    </tr>\n",
       "    <tr>\n",
       "      <th>2</th>\n",
       "      <td>30</td>\n",
       "      <td>0</td>\n",
       "      <td>0</td>\n",
       "      <td>0</td>\n",
       "      <td>1</td>\n",
       "      <td>0</td>\n",
       "      <td>0</td>\n",
       "      <td>0</td>\n",
       "      <td>0</td>\n",
       "      <td>1</td>\n",
       "      <td>4</td>\n",
       "      <td>49</td>\n",
       "      <td>0</td>\n",
       "      <td>4</td>\n",
       "      <td>1</td>\n",
       "      <td>0</td>\n",
       "      <td>0</td>\n",
       "      <td>1</td>\n",
       "      <td>1</td>\n",
       "    </tr>\n",
       "    <tr>\n",
       "      <th>3</th>\n",
       "      <td>31</td>\n",
       "      <td>1</td>\n",
       "      <td>0</td>\n",
       "      <td>0</td>\n",
       "      <td>1</td>\n",
       "      <td>0</td>\n",
       "      <td>0</td>\n",
       "      <td>0</td>\n",
       "      <td>0</td>\n",
       "      <td>1</td>\n",
       "      <td>1</td>\n",
       "      <td>27</td>\n",
       "      <td>1</td>\n",
       "      <td>1</td>\n",
       "      <td>1</td>\n",
       "      <td>1</td>\n",
       "      <td>0</td>\n",
       "      <td>1</td>\n",
       "      <td>1</td>\n",
       "    </tr>\n",
       "    <tr>\n",
       "      <th>4</th>\n",
       "      <td>34</td>\n",
       "      <td>1</td>\n",
       "      <td>0</td>\n",
       "      <td>0</td>\n",
       "      <td>1</td>\n",
       "      <td>0</td>\n",
       "      <td>0</td>\n",
       "      <td>1</td>\n",
       "      <td>0</td>\n",
       "      <td>0</td>\n",
       "      <td>0</td>\n",
       "      <td>32</td>\n",
       "      <td>0</td>\n",
       "      <td>5</td>\n",
       "      <td>0</td>\n",
       "      <td>0</td>\n",
       "      <td>0</td>\n",
       "      <td>0</td>\n",
       "      <td>1</td>\n",
       "    </tr>\n",
       "    <tr>\n",
       "      <th>...</th>\n",
       "      <td>...</td>\n",
       "      <td>...</td>\n",
       "      <td>...</td>\n",
       "      <td>...</td>\n",
       "      <td>...</td>\n",
       "      <td>...</td>\n",
       "      <td>...</td>\n",
       "      <td>...</td>\n",
       "      <td>...</td>\n",
       "      <td>...</td>\n",
       "      <td>...</td>\n",
       "      <td>...</td>\n",
       "      <td>...</td>\n",
       "      <td>...</td>\n",
       "      <td>...</td>\n",
       "      <td>...</td>\n",
       "      <td>...</td>\n",
       "      <td>...</td>\n",
       "      <td>...</td>\n",
       "    </tr>\n",
       "    <tr>\n",
       "      <th>1638</th>\n",
       "      <td>9313</td>\n",
       "      <td>0</td>\n",
       "      <td>0</td>\n",
       "      <td>0</td>\n",
       "      <td>0</td>\n",
       "      <td>1</td>\n",
       "      <td>0</td>\n",
       "      <td>0</td>\n",
       "      <td>0</td>\n",
       "      <td>0</td>\n",
       "      <td>2</td>\n",
       "      <td>52</td>\n",
       "      <td>1</td>\n",
       "      <td>3</td>\n",
       "      <td>1</td>\n",
       "      <td>0</td>\n",
       "      <td>0</td>\n",
       "      <td>1</td>\n",
       "      <td>0</td>\n",
       "    </tr>\n",
       "    <tr>\n",
       "      <th>1639</th>\n",
       "      <td>9316</td>\n",
       "      <td>0</td>\n",
       "      <td>0</td>\n",
       "      <td>0</td>\n",
       "      <td>0</td>\n",
       "      <td>1</td>\n",
       "      <td>0</td>\n",
       "      <td>0</td>\n",
       "      <td>0</td>\n",
       "      <td>0</td>\n",
       "      <td>2</td>\n",
       "      <td>65</td>\n",
       "      <td>0</td>\n",
       "      <td>3</td>\n",
       "      <td>1</td>\n",
       "      <td>0</td>\n",
       "      <td>0</td>\n",
       "      <td>0</td>\n",
       "      <td>1</td>\n",
       "    </tr>\n",
       "    <tr>\n",
       "      <th>1640</th>\n",
       "      <td>9322</td>\n",
       "      <td>0</td>\n",
       "      <td>0</td>\n",
       "      <td>0</td>\n",
       "      <td>0</td>\n",
       "      <td>1</td>\n",
       "      <td>1</td>\n",
       "      <td>0</td>\n",
       "      <td>1</td>\n",
       "      <td>0</td>\n",
       "      <td>2</td>\n",
       "      <td>47</td>\n",
       "      <td>0</td>\n",
       "      <td>3</td>\n",
       "      <td>1</td>\n",
       "      <td>0</td>\n",
       "      <td>0</td>\n",
       "      <td>1</td>\n",
       "      <td>1</td>\n",
       "    </tr>\n",
       "    <tr>\n",
       "      <th>1641</th>\n",
       "      <td>9323</td>\n",
       "      <td>0</td>\n",
       "      <td>0</td>\n",
       "      <td>0</td>\n",
       "      <td>0</td>\n",
       "      <td>1</td>\n",
       "      <td>0</td>\n",
       "      <td>1</td>\n",
       "      <td>0</td>\n",
       "      <td>0</td>\n",
       "      <td>4</td>\n",
       "      <td>59</td>\n",
       "      <td>1</td>\n",
       "      <td>1</td>\n",
       "      <td>1</td>\n",
       "      <td>0</td>\n",
       "      <td>0</td>\n",
       "      <td>1</td>\n",
       "      <td>1</td>\n",
       "    </tr>\n",
       "    <tr>\n",
       "      <th>1642</th>\n",
       "      <td>9325</td>\n",
       "      <td>1</td>\n",
       "      <td>0</td>\n",
       "      <td>0</td>\n",
       "      <td>1</td>\n",
       "      <td>0</td>\n",
       "      <td>0</td>\n",
       "      <td>1</td>\n",
       "      <td>0</td>\n",
       "      <td>1</td>\n",
       "      <td>2</td>\n",
       "      <td>60</td>\n",
       "      <td>0</td>\n",
       "      <td>0</td>\n",
       "      <td>1</td>\n",
       "      <td>1</td>\n",
       "      <td>0</td>\n",
       "      <td>0</td>\n",
       "      <td>0</td>\n",
       "    </tr>\n",
       "  </tbody>\n",
       "</table>\n",
       "<p>1643 rows × 19 columns</p>\n",
       "</div>"
      ],
      "text/plain": [
       "      resp_id  WFH_PRE  Job_Clerical or administrative support  \\\n",
       "0          11        0                                       0   \n",
       "1          29        1                                       0   \n",
       "2          30        0                                       0   \n",
       "3          31        1                                       0   \n",
       "4          34        1                                       0   \n",
       "...       ...      ...                                     ...   \n",
       "1638     9313        0                                       0   \n",
       "1639     9316        0                                       0   \n",
       "1640     9322        0                                       0   \n",
       "1641     9323        0                                       0   \n",
       "1642     9325        1                                       0   \n",
       "\n",
       "      Job_Manufacturing, construction, maintenance, or farming  \\\n",
       "0                                                     0          \n",
       "1                                                     0          \n",
       "2                                                     0          \n",
       "3                                                     0          \n",
       "4                                                     0          \n",
       "...                                                 ...          \n",
       "1638                                                  0          \n",
       "1639                                                  0          \n",
       "1640                                                  0          \n",
       "1641                                                  0          \n",
       "1642                                                  0          \n",
       "\n",
       "      Job_Professional, managerial, or technical  Job_Sales or service  \\\n",
       "0                                              0                     0   \n",
       "1                                              1                     0   \n",
       "2                                              1                     0   \n",
       "3                                              1                     0   \n",
       "4                                              1                     0   \n",
       "...                                          ...                   ...   \n",
       "1638                                           0                     1   \n",
       "1639                                           0                     1   \n",
       "1640                                           0                     1   \n",
       "1641                                           0                     1   \n",
       "1642                                           1                     0   \n",
       "\n",
       "      Workload_increased  Workload_decreased  Increased_productivity  \\\n",
       "0                      1                   0                       1   \n",
       "1                      0                   0                       0   \n",
       "2                      0                   0                       0   \n",
       "3                      0                   0                       0   \n",
       "4                      0                   1                       0   \n",
       "...                  ...                 ...                     ...   \n",
       "1638                   0                   0                       0   \n",
       "1639                   0                   0                       0   \n",
       "1640                   1                   0                       1   \n",
       "1641                   0                   1                       0   \n",
       "1642                   0                   1                       0   \n",
       "\n",
       "      Decreased_productivity  hhveh_harm  age  gender  Number_bedrooms  \\\n",
       "0                          0           2   44       1                5   \n",
       "1                          1           1   39       1                2   \n",
       "2                          1           4   49       0                4   \n",
       "3                          1           1   27       1                1   \n",
       "4                          0           0   32       0                5   \n",
       "...                      ...         ...  ...     ...              ...   \n",
       "1638                       0           2   52       1                3   \n",
       "1639                       0           2   65       0                3   \n",
       "1640                       0           2   47       0                3   \n",
       "1641                       0           4   59       1                1   \n",
       "1642                       1           2   60       0                0   \n",
       "\n",
       "      Race_white  Gradutae_degree  High_income(LessThan_100K)  \\\n",
       "0              1                0                           0   \n",
       "1              1                1                           0   \n",
       "2              1                0                           0   \n",
       "3              1                1                           0   \n",
       "4              0                0                           0   \n",
       "...          ...              ...                         ...   \n",
       "1638           1                0                           0   \n",
       "1639           1                0                           0   \n",
       "1640           1                0                           0   \n",
       "1641           1                0                           0   \n",
       "1642           1                1                           0   \n",
       "\n",
       "      More_income(LMoreThan_35K)  ProEnvironment  \n",
       "0                              0               1  \n",
       "1                              1               1  \n",
       "2                              1               1  \n",
       "3                              1               1  \n",
       "4                              0               1  \n",
       "...                          ...             ...  \n",
       "1638                           1               0  \n",
       "1639                           0               1  \n",
       "1640                           1               1  \n",
       "1641                           1               1  \n",
       "1642                           0               0  \n",
       "\n",
       "[1643 rows x 19 columns]"
      ]
     },
     "execution_count": 4,
     "metadata": {},
     "output_type": "execute_result"
    }
   ],
   "source": [
    "#Importing Wave 1 Data\n",
    "wave1 = pd.read_csv(\"Wave1_train.csv\")\n",
    "wave1"
   ]
  },
  {
   "cell_type": "code",
   "execution_count": 6,
   "metadata": {},
   "outputs": [
    {
     "data": {
      "text/html": [
       "<div>\n",
       "<style scoped>\n",
       "    .dataframe tbody tr th:only-of-type {\n",
       "        vertical-align: middle;\n",
       "    }\n",
       "\n",
       "    .dataframe tbody tr th {\n",
       "        vertical-align: top;\n",
       "    }\n",
       "\n",
       "    .dataframe thead th {\n",
       "        text-align: right;\n",
       "    }\n",
       "</style>\n",
       "<table border=\"1\" class=\"dataframe\">\n",
       "  <thead>\n",
       "    <tr style=\"text-align: right;\">\n",
       "      <th></th>\n",
       "      <th>resp_id</th>\n",
       "      <th>wfh_expect</th>\n",
       "      <th>Job_Clerical or administrative support</th>\n",
       "      <th>Job_Manufacturing, construction, maintenance, or farming</th>\n",
       "      <th>Job_Professional, managerial, or technical</th>\n",
       "      <th>Job_Sales or service</th>\n",
       "      <th>Workload_increased</th>\n",
       "      <th>Workload_decreased</th>\n",
       "      <th>Increased_productivity</th>\n",
       "      <th>Decreased_productivity</th>\n",
       "      <th>hhveh_harm</th>\n",
       "      <th>age</th>\n",
       "      <th>gender</th>\n",
       "      <th>Number_bedrooms</th>\n",
       "      <th>Race_white</th>\n",
       "      <th>Gradutae_degree</th>\n",
       "      <th>High_income(LessThan_100K)</th>\n",
       "      <th>More_income(LMoreThan_35K)</th>\n",
       "    </tr>\n",
       "  </thead>\n",
       "  <tbody>\n",
       "    <tr>\n",
       "      <th>0</th>\n",
       "      <td>1177</td>\n",
       "      <td>Yes</td>\n",
       "      <td>0</td>\n",
       "      <td>0</td>\n",
       "      <td>1</td>\n",
       "      <td>0</td>\n",
       "      <td>0</td>\n",
       "      <td>0</td>\n",
       "      <td>1</td>\n",
       "      <td>0</td>\n",
       "      <td>2</td>\n",
       "      <td>58</td>\n",
       "      <td>1</td>\n",
       "      <td>3</td>\n",
       "      <td>0</td>\n",
       "      <td>1</td>\n",
       "      <td>0</td>\n",
       "      <td>1</td>\n",
       "    </tr>\n",
       "    <tr>\n",
       "      <th>1</th>\n",
       "      <td>1188</td>\n",
       "      <td>Yes</td>\n",
       "      <td>0</td>\n",
       "      <td>0</td>\n",
       "      <td>1</td>\n",
       "      <td>0</td>\n",
       "      <td>0</td>\n",
       "      <td>0</td>\n",
       "      <td>1</td>\n",
       "      <td>0</td>\n",
       "      <td>1</td>\n",
       "      <td>66</td>\n",
       "      <td>0</td>\n",
       "      <td>2</td>\n",
       "      <td>1</td>\n",
       "      <td>0</td>\n",
       "      <td>0</td>\n",
       "      <td>0</td>\n",
       "    </tr>\n",
       "    <tr>\n",
       "      <th>2</th>\n",
       "      <td>1189</td>\n",
       "      <td>Yes</td>\n",
       "      <td>0</td>\n",
       "      <td>0</td>\n",
       "      <td>0</td>\n",
       "      <td>0</td>\n",
       "      <td>0</td>\n",
       "      <td>0</td>\n",
       "      <td>0</td>\n",
       "      <td>0</td>\n",
       "      <td>0</td>\n",
       "      <td>24</td>\n",
       "      <td>1</td>\n",
       "      <td>3</td>\n",
       "      <td>1</td>\n",
       "      <td>0</td>\n",
       "      <td>1</td>\n",
       "      <td>0</td>\n",
       "    </tr>\n",
       "    <tr>\n",
       "      <th>3</th>\n",
       "      <td>1194</td>\n",
       "      <td>Yes</td>\n",
       "      <td>0</td>\n",
       "      <td>0</td>\n",
       "      <td>1</td>\n",
       "      <td>0</td>\n",
       "      <td>0</td>\n",
       "      <td>0</td>\n",
       "      <td>0</td>\n",
       "      <td>0</td>\n",
       "      <td>1</td>\n",
       "      <td>31</td>\n",
       "      <td>1</td>\n",
       "      <td>3</td>\n",
       "      <td>1</td>\n",
       "      <td>1</td>\n",
       "      <td>0</td>\n",
       "      <td>1</td>\n",
       "    </tr>\n",
       "    <tr>\n",
       "      <th>4</th>\n",
       "      <td>1202</td>\n",
       "      <td>Yes</td>\n",
       "      <td>0</td>\n",
       "      <td>0</td>\n",
       "      <td>0</td>\n",
       "      <td>0</td>\n",
       "      <td>0</td>\n",
       "      <td>0</td>\n",
       "      <td>0</td>\n",
       "      <td>0</td>\n",
       "      <td>0</td>\n",
       "      <td>23</td>\n",
       "      <td>0</td>\n",
       "      <td>2</td>\n",
       "      <td>0</td>\n",
       "      <td>1</td>\n",
       "      <td>1</td>\n",
       "      <td>0</td>\n",
       "    </tr>\n",
       "    <tr>\n",
       "      <th>...</th>\n",
       "      <td>...</td>\n",
       "      <td>...</td>\n",
       "      <td>...</td>\n",
       "      <td>...</td>\n",
       "      <td>...</td>\n",
       "      <td>...</td>\n",
       "      <td>...</td>\n",
       "      <td>...</td>\n",
       "      <td>...</td>\n",
       "      <td>...</td>\n",
       "      <td>...</td>\n",
       "      <td>...</td>\n",
       "      <td>...</td>\n",
       "      <td>...</td>\n",
       "      <td>...</td>\n",
       "      <td>...</td>\n",
       "      <td>...</td>\n",
       "      <td>...</td>\n",
       "    </tr>\n",
       "    <tr>\n",
       "      <th>1363</th>\n",
       "      <td>9316</td>\n",
       "      <td>No</td>\n",
       "      <td>0</td>\n",
       "      <td>0</td>\n",
       "      <td>0</td>\n",
       "      <td>1</td>\n",
       "      <td>0</td>\n",
       "      <td>0</td>\n",
       "      <td>0</td>\n",
       "      <td>0</td>\n",
       "      <td>2</td>\n",
       "      <td>65</td>\n",
       "      <td>0</td>\n",
       "      <td>3</td>\n",
       "      <td>1</td>\n",
       "      <td>0</td>\n",
       "      <td>0</td>\n",
       "      <td>0</td>\n",
       "    </tr>\n",
       "    <tr>\n",
       "      <th>1364</th>\n",
       "      <td>9319</td>\n",
       "      <td>Yes</td>\n",
       "      <td>0</td>\n",
       "      <td>0</td>\n",
       "      <td>0</td>\n",
       "      <td>0</td>\n",
       "      <td>0</td>\n",
       "      <td>0</td>\n",
       "      <td>0</td>\n",
       "      <td>0</td>\n",
       "      <td>2</td>\n",
       "      <td>67</td>\n",
       "      <td>1</td>\n",
       "      <td>3</td>\n",
       "      <td>1</td>\n",
       "      <td>0</td>\n",
       "      <td>0</td>\n",
       "      <td>1</td>\n",
       "    </tr>\n",
       "    <tr>\n",
       "      <th>1365</th>\n",
       "      <td>9322</td>\n",
       "      <td>No</td>\n",
       "      <td>0</td>\n",
       "      <td>0</td>\n",
       "      <td>0</td>\n",
       "      <td>1</td>\n",
       "      <td>1</td>\n",
       "      <td>0</td>\n",
       "      <td>1</td>\n",
       "      <td>0</td>\n",
       "      <td>2</td>\n",
       "      <td>47</td>\n",
       "      <td>0</td>\n",
       "      <td>3</td>\n",
       "      <td>1</td>\n",
       "      <td>0</td>\n",
       "      <td>0</td>\n",
       "      <td>1</td>\n",
       "    </tr>\n",
       "    <tr>\n",
       "      <th>1366</th>\n",
       "      <td>9323</td>\n",
       "      <td>No</td>\n",
       "      <td>0</td>\n",
       "      <td>0</td>\n",
       "      <td>0</td>\n",
       "      <td>1</td>\n",
       "      <td>0</td>\n",
       "      <td>1</td>\n",
       "      <td>0</td>\n",
       "      <td>0</td>\n",
       "      <td>4</td>\n",
       "      <td>59</td>\n",
       "      <td>1</td>\n",
       "      <td>1</td>\n",
       "      <td>1</td>\n",
       "      <td>0</td>\n",
       "      <td>0</td>\n",
       "      <td>1</td>\n",
       "    </tr>\n",
       "    <tr>\n",
       "      <th>1367</th>\n",
       "      <td>9325</td>\n",
       "      <td>Yes</td>\n",
       "      <td>0</td>\n",
       "      <td>0</td>\n",
       "      <td>1</td>\n",
       "      <td>0</td>\n",
       "      <td>0</td>\n",
       "      <td>1</td>\n",
       "      <td>0</td>\n",
       "      <td>1</td>\n",
       "      <td>2</td>\n",
       "      <td>60</td>\n",
       "      <td>0</td>\n",
       "      <td>0</td>\n",
       "      <td>1</td>\n",
       "      <td>1</td>\n",
       "      <td>0</td>\n",
       "      <td>0</td>\n",
       "    </tr>\n",
       "  </tbody>\n",
       "</table>\n",
       "<p>1368 rows × 18 columns</p>\n",
       "</div>"
      ],
      "text/plain": [
       "      resp_id wfh_expect  Job_Clerical or administrative support  \\\n",
       "0        1177        Yes                                       0   \n",
       "1        1188        Yes                                       0   \n",
       "2        1189        Yes                                       0   \n",
       "3        1194        Yes                                       0   \n",
       "4        1202        Yes                                       0   \n",
       "...       ...        ...                                     ...   \n",
       "1363     9316         No                                       0   \n",
       "1364     9319        Yes                                       0   \n",
       "1365     9322         No                                       0   \n",
       "1366     9323         No                                       0   \n",
       "1367     9325        Yes                                       0   \n",
       "\n",
       "      Job_Manufacturing, construction, maintenance, or farming  \\\n",
       "0                                                     0          \n",
       "1                                                     0          \n",
       "2                                                     0          \n",
       "3                                                     0          \n",
       "4                                                     0          \n",
       "...                                                 ...          \n",
       "1363                                                  0          \n",
       "1364                                                  0          \n",
       "1365                                                  0          \n",
       "1366                                                  0          \n",
       "1367                                                  0          \n",
       "\n",
       "      Job_Professional, managerial, or technical  Job_Sales or service  \\\n",
       "0                                              1                     0   \n",
       "1                                              1                     0   \n",
       "2                                              0                     0   \n",
       "3                                              1                     0   \n",
       "4                                              0                     0   \n",
       "...                                          ...                   ...   \n",
       "1363                                           0                     1   \n",
       "1364                                           0                     0   \n",
       "1365                                           0                     1   \n",
       "1366                                           0                     1   \n",
       "1367                                           1                     0   \n",
       "\n",
       "      Workload_increased  Workload_decreased  Increased_productivity  \\\n",
       "0                      0                   0                       1   \n",
       "1                      0                   0                       1   \n",
       "2                      0                   0                       0   \n",
       "3                      0                   0                       0   \n",
       "4                      0                   0                       0   \n",
       "...                  ...                 ...                     ...   \n",
       "1363                   0                   0                       0   \n",
       "1364                   0                   0                       0   \n",
       "1365                   1                   0                       1   \n",
       "1366                   0                   1                       0   \n",
       "1367                   0                   1                       0   \n",
       "\n",
       "      Decreased_productivity  hhveh_harm  age  gender  Number_bedrooms  \\\n",
       "0                          0           2   58       1                3   \n",
       "1                          0           1   66       0                2   \n",
       "2                          0           0   24       1                3   \n",
       "3                          0           1   31       1                3   \n",
       "4                          0           0   23       0                2   \n",
       "...                      ...         ...  ...     ...              ...   \n",
       "1363                       0           2   65       0                3   \n",
       "1364                       0           2   67       1                3   \n",
       "1365                       0           2   47       0                3   \n",
       "1366                       0           4   59       1                1   \n",
       "1367                       1           2   60       0                0   \n",
       "\n",
       "      Race_white  Gradutae_degree  High_income(LessThan_100K)  \\\n",
       "0              0                1                           0   \n",
       "1              1                0                           0   \n",
       "2              1                0                           1   \n",
       "3              1                1                           0   \n",
       "4              0                1                           1   \n",
       "...          ...              ...                         ...   \n",
       "1363           1                0                           0   \n",
       "1364           1                0                           0   \n",
       "1365           1                0                           0   \n",
       "1366           1                0                           0   \n",
       "1367           1                1                           0   \n",
       "\n",
       "      More_income(LMoreThan_35K)  \n",
       "0                              1  \n",
       "1                              0  \n",
       "2                              0  \n",
       "3                              1  \n",
       "4                              0  \n",
       "...                          ...  \n",
       "1363                           0  \n",
       "1364                           1  \n",
       "1365                           1  \n",
       "1366                           1  \n",
       "1367                           0  \n",
       "\n",
       "[1368 rows x 18 columns]"
      ]
     },
     "execution_count": 6,
     "metadata": {},
     "output_type": "execute_result"
    }
   ],
   "source": [
    "#Importing Wave 2 Data\n",
    "wave2 = pd.read_csv(\"Wave2_train.csv\")\n",
    "wave2"
   ]
  },
  {
   "cell_type": "markdown",
   "metadata": {},
   "source": [
    "# Wave One Workload"
   ]
  },
  {
   "cell_type": "markdown",
   "metadata": {},
   "source": [
    "The code below is used to get the workload information from the four different job categories during wave 1"
   ]
  },
  {
   "cell_type": "code",
   "execution_count": 7,
   "metadata": {},
   "outputs": [
    {
     "data": {
      "text/plain": [
       "116"
      ]
     },
     "execution_count": 7,
     "metadata": {},
     "output_type": "execute_result"
    }
   ],
   "source": [
    "#Sales Increased Workload\n",
    "w1SalesWorkInc = wave1[(wave1[\"Job_Sales or service\"] == 1) & (wave1[\"Workload_increased\"] == 1)]\n",
    "len(w1SalesWorkInc)"
   ]
  },
  {
   "cell_type": "code",
   "execution_count": 8,
   "metadata": {},
   "outputs": [
    {
     "data": {
      "text/plain": [
       "118"
      ]
     },
     "execution_count": 8,
     "metadata": {},
     "output_type": "execute_result"
    }
   ],
   "source": [
    "#Sales Decreased Workload\n",
    "w1SalesWorkDec = wave1[(wave1[\"Job_Sales or service\"] == 1) & (wave1[\"Workload_decreased\"] == 1)]\n",
    "len(w1SalesWorkDec)"
   ]
  },
  {
   "cell_type": "code",
   "execution_count": 9,
   "metadata": {},
   "outputs": [
    {
     "data": {
      "text/plain": [
       "28"
      ]
     },
     "execution_count": 9,
     "metadata": {},
     "output_type": "execute_result"
    }
   ],
   "source": [
    "#Administrative Increased Workload\n",
    "w1AdminWorkInc = wave1[(wave1[\"Job_Clerical or administrative support\"] == 1) & (wave1[\"Workload_increased\"] == 1)]\n",
    "len(w1AdminWorkInc)"
   ]
  },
  {
   "cell_type": "code",
   "execution_count": 10,
   "metadata": {},
   "outputs": [
    {
     "data": {
      "text/plain": [
       "21"
      ]
     },
     "execution_count": 10,
     "metadata": {},
     "output_type": "execute_result"
    }
   ],
   "source": [
    "#Administrative Decreased Workload\n",
    "w1AdminWorkDec = wave1[(wave1[\"Job_Clerical or administrative support\"] == 1) & (wave1[\"Workload_decreased\"] == 1)]\n",
    "len(w1AdminWorkDec)"
   ]
  },
  {
   "cell_type": "code",
   "execution_count": 11,
   "metadata": {},
   "outputs": [
    {
     "data": {
      "text/plain": [
       "25"
      ]
     },
     "execution_count": 11,
     "metadata": {},
     "output_type": "execute_result"
    }
   ],
   "source": [
    "#Skilled Trade Increased Workload\n",
    "w1TradeWorkInc = wave1[(wave1[\"Job_Manufacturing, construction, maintenance, or farming\"] == 1) & (wave1[\"Workload_increased\"] == 1)]\n",
    "len(w1TradeWorkInc)"
   ]
  },
  {
   "cell_type": "code",
   "execution_count": 12,
   "metadata": {},
   "outputs": [
    {
     "data": {
      "text/plain": [
       "20"
      ]
     },
     "execution_count": 12,
     "metadata": {},
     "output_type": "execute_result"
    }
   ],
   "source": [
    "#Skilled Trade Decreased Workload\n",
    "w1TradeWorkDec = wave1[(wave1[\"Job_Manufacturing, construction, maintenance, or farming\"] == 1) & (wave1[\"Workload_decreased\"] == 1)]\n",
    "len(w1TradeWorkDec)"
   ]
  },
  {
   "cell_type": "code",
   "execution_count": 13,
   "metadata": {},
   "outputs": [
    {
     "data": {
      "text/plain": [
       "208"
      ]
     },
     "execution_count": 13,
     "metadata": {},
     "output_type": "execute_result"
    }
   ],
   "source": [
    "#Professional/Tech Increased Workload\n",
    "w1ProWorkInc = wave1[(wave1[\"Job_Professional, managerial, or technical\"] == 1) & (wave1[\"Workload_increased\"] == 1)]\n",
    "len(w1ProWorkInc)"
   ]
  },
  {
   "cell_type": "code",
   "execution_count": 14,
   "metadata": {},
   "outputs": [
    {
     "data": {
      "text/plain": [
       "169"
      ]
     },
     "execution_count": 14,
     "metadata": {},
     "output_type": "execute_result"
    }
   ],
   "source": [
    "#Professional/Tech Decreased Workload\n",
    "w1ProWorkDec = wave1[(wave1[\"Job_Professional, managerial, or technical\"] == 1) & (wave1[\"Workload_decreased\"] == 1)]\n",
    "len(w1ProWorkDec)"
   ]
  },
  {
   "cell_type": "code",
   "execution_count": 15,
   "metadata": {
    "scrolled": true
   },
   "outputs": [
    {
     "data": {
      "image/png": "[encoded data removed]",
      "text/plain": [
       "<Figure size 432x288 with 1 Axes>"
      ]
     },
     "metadata": {
      "needs_background": "light"
     },
     "output_type": "display_data"
    }
   ],
   "source": [
    "#Plot for Workload in Wave 1\n",
    "import matplotlib.patches as mpatches\n",
    "data = {\n",
    "    'Administrative': 57,\n",
    "    'Skilled Trade': 55,\n",
    "    'Pro/Tech': 55,\n",
    "    'Sales' : 49,\n",
    "}\n",
    "\n",
    "data2 = {\n",
    "    'Administrative': 43,\n",
    "    'Skilled Trade': 45,\n",
    "    'Pro/Tech': 45,\n",
    "    'Sales' : 51,\n",
    "}\n",
    "\n",
    "jobs = list(data.keys())\n",
    "values = list(data.values())\n",
    "\n",
    "jobs2 = list(data2.keys())\n",
    "values2 = list(data2.values())\n",
    "green_Patch = mpatches.Patch(color='lightgreen', label='Increased Workload')\n",
    "blue_Patch = mpatches.Patch(color='lightblue', label='Decreased Workload')\n",
    "\n",
    "plt.ylim(0,65)\n",
    "plt.bar(range(len(data)), values, tick_label=jobs, color=\"lightgreen\")\n",
    "plt.bar(range(len(data2)), values2, tick_label=jobs2, color=\"lightblue\")\n",
    "plt.ylabel(\"Percentage(%)\")\n",
    "plt.title(\"Workload During Wave One\")\n",
    "\n",
    "plt.legend(\n",
    "    bbox_to_anchor=(1.45,1.03),\n",
    "    loc='upper right',\n",
    "    frameon=True,\n",
    "    handles = [green_Patch,blue_Patch]\n",
    ")\n",
    "\n",
    "plt.show()"
   ]
  },
  {
   "cell_type": "markdown",
   "metadata": {},
   "source": [
    "# Wave One Productivity"
   ]
  },
  {
   "cell_type": "markdown",
   "metadata": {},
   "source": [
    "The code below is used to get the productivity information from the four different job categories during wave 1"
   ]
  },
  {
   "cell_type": "code",
   "execution_count": 5,
   "metadata": {},
   "outputs": [
    {
     "data": {
      "text/plain": [
       "27"
      ]
     },
     "execution_count": 5,
     "metadata": {},
     "output_type": "execute_result"
    }
   ],
   "source": [
    "#Administrative Increased Productivity\n",
    "w1AdminProdInc = wave1[(wave1[\"Job_Clerical or administrative support\"] == 1) & (wave1[\"Increased_productivity\"] == 1)]\n",
    "len(w1AdminProdInc)"
   ]
  },
  {
   "cell_type": "code",
   "execution_count": 17,
   "metadata": {},
   "outputs": [
    {
     "data": {
      "text/plain": [
       "26"
      ]
     },
     "execution_count": 17,
     "metadata": {},
     "output_type": "execute_result"
    }
   ],
   "source": [
    "#Administrative Decreased Productivity\n",
    "w1AdminProdDec = wave1[(wave1[\"Job_Clerical or administrative support\"] == 1) & (wave1[\"Decreased_productivity\"] == 1)]\n",
    "len(w1AdminProdDec)"
   ]
  },
  {
   "cell_type": "code",
   "execution_count": 18,
   "metadata": {},
   "outputs": [
    {
     "data": {
      "text/plain": [
       "19"
      ]
     },
     "execution_count": 18,
     "metadata": {},
     "output_type": "execute_result"
    }
   ],
   "source": [
    "#Skilled Trade Increased Productivity\n",
    "w1TradeProdInc = wave1[(wave1[\"Job_Manufacturing, construction, maintenance, or farming\"] == 1) & (wave1[\"Increased_productivity\"] == 1)]\n",
    "len(w1TradeProdInc)"
   ]
  },
  {
   "cell_type": "code",
   "execution_count": 19,
   "metadata": {},
   "outputs": [
    {
     "data": {
      "text/plain": [
       "22"
      ]
     },
     "execution_count": 19,
     "metadata": {},
     "output_type": "execute_result"
    }
   ],
   "source": [
    "#Skilled Trade Decreased Productivity\n",
    "w1TradeProdDec = wave1[(wave1[\"Job_Manufacturing, construction, maintenance, or farming\"] == 1) & (wave1[\"Decreased_productivity\"] == 1)]\n",
    "len(w1TradeProdDec)"
   ]
  },
  {
   "cell_type": "code",
   "execution_count": 20,
   "metadata": {},
   "outputs": [
    {
     "data": {
      "text/plain": [
       "163"
      ]
     },
     "execution_count": 20,
     "metadata": {},
     "output_type": "execute_result"
    }
   ],
   "source": [
    "#Professional/Tech Increased Productivity\n",
    "w1ProProdInc = wave1[(wave1[\"Job_Professional, managerial, or technical\"] == 1) & (wave1[\"Increased_productivity\"] == 1)]\n",
    "len(w1ProProdInc)"
   ]
  },
  {
   "cell_type": "code",
   "execution_count": 21,
   "metadata": {},
   "outputs": [
    {
     "data": {
      "text/plain": [
       "202"
      ]
     },
     "execution_count": 21,
     "metadata": {},
     "output_type": "execute_result"
    }
   ],
   "source": [
    "#Professional/Tech Decreased Productivity\n",
    "w1ProProdDec = wave1[(wave1[\"Job_Professional, managerial, or technical\"] == 1) & (wave1[\"Decreased_productivity\"] == 1)]\n",
    "len(w1ProProdDec)"
   ]
  },
  {
   "cell_type": "code",
   "execution_count": 22,
   "metadata": {},
   "outputs": [
    {
     "data": {
      "text/plain": [
       "73"
      ]
     },
     "execution_count": 22,
     "metadata": {},
     "output_type": "execute_result"
    }
   ],
   "source": [
    "#Sales Increased Productivity\n",
    "w1SalesProdInc = wave1[(wave1[\"Job_Sales or service\"] == 1) & (wave1[\"Increased_productivity\"] == 1)]\n",
    "len(w1SalesProdInc)"
   ]
  },
  {
   "cell_type": "code",
   "execution_count": 23,
   "metadata": {},
   "outputs": [
    {
     "data": {
      "text/plain": [
       "111"
      ]
     },
     "execution_count": 23,
     "metadata": {},
     "output_type": "execute_result"
    }
   ],
   "source": [
    "#Sales Decreased Productivity\n",
    "w1SalesProdDec = wave1[(wave1[\"Job_Sales or service\"] == 1) & (wave1[\"Decreased_productivity\"] == 1)]\n",
    "len(w1SalesProdDec)"
   ]
  },
  {
   "cell_type": "code",
   "execution_count": 24,
   "metadata": {},
   "outputs": [
    {
     "data": {
      "image/png": "[encoded data removed]",
      "text/plain": [
       "<Figure size 432x288 with 1 Axes>"
      ]
     },
     "metadata": {
      "needs_background": "light"
     },
     "output_type": "display_data"
    }
   ],
   "source": [
    "#Plot for Productivity in Wave 1\n",
    "data = {\n",
    "    'Administrative': 50,\n",
    "    'Skilled Trade': 46,\n",
    "    'Pro/Tech': 45,\n",
    "    'Sales' : 40,\n",
    "}\n",
    "\n",
    "data2 = {\n",
    "    'Administrative': 50,\n",
    "    'Skilled Trade': 54,\n",
    "    'Pro/Tech': 55,\n",
    "    'Sales' : 60,\n",
    "}\n",
    "\n",
    "jobs = list(data.keys())\n",
    "values = list(data.values())\n",
    "\n",
    "jobs2 = list(data2.keys())\n",
    "values2 = list(data2.values())\n",
    "\n",
    "purple_Patch = mpatches.Patch(color='purple', label='Increased Productivity')\n",
    "orange_Patch = mpatches.Patch(color='orange', label='Decreased Productivity')\n",
    "\n",
    "plt.ylim(0,65)\n",
    "plt.bar(range(len(data2)), values2, tick_label=jobs2, color=\"orange\")\n",
    "plt.bar(range(len(data)), values, tick_label=jobs, color=\"purple\")\n",
    "\n",
    "plt.ylabel(\"Percentage(%)\")\n",
    "plt.title(\"Productivity During Wave One\")\n",
    "plt.legend(\n",
    "    bbox_to_anchor=(1.45,1.03),\n",
    "    loc='upper right',\n",
    "    frameon=True,\n",
    "    handles = [purple_Patch,orange_Patch]\n",
    ")\n",
    "\n",
    "plt.show()"
   ]
  },
  {
   "cell_type": "markdown",
   "metadata": {},
   "source": [
    "# Wave 2 Workload"
   ]
  },
  {
   "cell_type": "markdown",
   "metadata": {},
   "source": [
    "The code below is used to get the Workload information from the four different job categories during wave 2"
   ]
  },
  {
   "cell_type": "code",
   "execution_count": 25,
   "metadata": {},
   "outputs": [
    {
     "data": {
      "text/plain": [
       "24"
      ]
     },
     "execution_count": 25,
     "metadata": {},
     "output_type": "execute_result"
    }
   ],
   "source": [
    "w2AdminWorkInc = wave2[(wave2[\"Job_Clerical or administrative support\"] == 1) & (wave2[\"Workload_increased\"] == 1)]\n",
    "len(w2AdminWorkInc)"
   ]
  },
  {
   "cell_type": "code",
   "execution_count": 26,
   "metadata": {},
   "outputs": [
    {
     "data": {
      "text/plain": [
       "16"
      ]
     },
     "execution_count": 26,
     "metadata": {},
     "output_type": "execute_result"
    }
   ],
   "source": [
    "w2AdminWorkDec = wave2[(wave2[\"Job_Clerical or administrative support\"] == 1) & (wave2[\"Workload_decreased\"] == 1)]\n",
    "len(w2AdminWorkDec)"
   ]
  },
  {
   "cell_type": "code",
   "execution_count": 27,
   "metadata": {},
   "outputs": [
    {
     "data": {
      "text/plain": [
       "22"
      ]
     },
     "execution_count": 27,
     "metadata": {},
     "output_type": "execute_result"
    }
   ],
   "source": [
    "w2TradeWorkInc = wave2[(wave2[\"Job_Manufacturing, construction, maintenance, or farming\"] == 1) & (wave2[\"Workload_increased\"] == 1)]\n",
    "len(w2TradeWorkInc)"
   ]
  },
  {
   "cell_type": "code",
   "execution_count": 28,
   "metadata": {},
   "outputs": [
    {
     "data": {
      "text/plain": [
       "20"
      ]
     },
     "execution_count": 28,
     "metadata": {},
     "output_type": "execute_result"
    }
   ],
   "source": [
    "w2TradeWorkDec = wave2[(wave2[\"Job_Manufacturing, construction, maintenance, or farming\"] == 1) & (wave2[\"Workload_decreased\"] == 1)]\n",
    "len(w2TradeWorkDec)"
   ]
  },
  {
   "cell_type": "code",
   "execution_count": 29,
   "metadata": {},
   "outputs": [
    {
     "data": {
      "text/plain": [
       "125"
      ]
     },
     "execution_count": 29,
     "metadata": {},
     "output_type": "execute_result"
    }
   ],
   "source": [
    "w2ProProdInc = wave2[(wave2[\"Job_Professional, managerial, or technical\"] == 1) & (wave2[\"Increased_productivity\"] == 1)]\n",
    "len(w2ProProdInc)"
   ]
  },
  {
   "cell_type": "code",
   "execution_count": 30,
   "metadata": {},
   "outputs": [
    {
     "data": {
      "text/plain": [
       "118"
      ]
     },
     "execution_count": 30,
     "metadata": {},
     "output_type": "execute_result"
    }
   ],
   "source": [
    "w2ProProdDec = wave2[(wave2[\"Job_Professional, managerial, or technical\"] == 1) & (wave2[\"Decreased_productivity\"] == 1)]\n",
    "len(w2ProProdDec)"
   ]
  },
  {
   "cell_type": "code",
   "execution_count": 31,
   "metadata": {},
   "outputs": [
    {
     "data": {
      "text/plain": [
       "71"
      ]
     },
     "execution_count": 31,
     "metadata": {},
     "output_type": "execute_result"
    }
   ],
   "source": [
    "w2SalesProdInc = wave2[(wave2[\"Job_Sales or service\"] == 1) & (wave2[\"Increased_productivity\"] == 1)]\n",
    "len(w2SalesProdInc)"
   ]
  },
  {
   "cell_type": "code",
   "execution_count": 32,
   "metadata": {},
   "outputs": [
    {
     "data": {
      "text/plain": [
       "108"
      ]
     },
     "execution_count": 32,
     "metadata": {},
     "output_type": "execute_result"
    }
   ],
   "source": [
    "w2SalesProdDec = wave2[(wave2[\"Job_Sales or service\"] == 1) & (wave2[\"Decreased_productivity\"] == 1)]\n",
    "len(w2SalesProdDec)"
   ]
  },
  {
   "cell_type": "code",
   "execution_count": 33,
   "metadata": {},
   "outputs": [
    {
     "data": {
      "image/png": "[encoded data removed]",
      "text/plain": [
       "<Figure size 432x288 with 1 Axes>"
      ]
     },
     "metadata": {
      "needs_background": "light"
     },
     "output_type": "display_data"
    }
   ],
   "source": [
    "#Plot for Workload in Wave 2\n",
    "data = {\n",
    "    'Administrative': 60,\n",
    "    'Skilled Trade': 52,\n",
    "    'Pro/Tech': 51,\n",
    "    'Sales' : 40,\n",
    "}\n",
    "\n",
    "data2 = {\n",
    "    'Administrative': 40,\n",
    "    'Skilled Trade': 48,\n",
    "    'Pro/Tech': 49,\n",
    "    'Sales' : 60,\n",
    "}\n",
    "\n",
    "jobs = list(data.keys())\n",
    "values = list(data.values())\n",
    "\n",
    "jobs2 = list(data2.keys())\n",
    "values2 = list(data2.values())\n",
    "green_Patch = mpatches.Patch(color='lightgreen', label='Increased Workload')\n",
    "blue_Patch = mpatches.Patch(color='lightblue', label='Decreased Workload')\n",
    "\n",
    "plt.ylim(0,70)\n",
    "plt.bar(range(len(data)), values, tick_label=jobs, color=\"lightgreen\")\n",
    "plt.bar(range(len(data2)), values2, tick_label=jobs2, color=\"lightblue\")\n",
    "plt.ylabel(\"Percentage(%)\")\n",
    "plt.title(\"Workload During Wave Two\")\n",
    "\n",
    "plt.legend(\n",
    "    bbox_to_anchor=(1.45,1.03),\n",
    "    loc='upper right',\n",
    "    frameon=True,\n",
    "    handles = [green_Patch,blue_Patch]\n",
    ")\n",
    "\n",
    "plt.show()"
   ]
  },
  {
   "cell_type": "markdown",
   "metadata": {},
   "source": [
    "# Wave 2 Productivity"
   ]
  },
  {
   "cell_type": "markdown",
   "metadata": {},
   "source": [
    "The code below is used to get the productivity information from the four different job categories during wave 2"
   ]
  },
  {
   "cell_type": "code",
   "execution_count": 34,
   "metadata": {},
   "outputs": [
    {
     "data": {
      "text/plain": [
       "21"
      ]
     },
     "execution_count": 34,
     "metadata": {},
     "output_type": "execute_result"
    }
   ],
   "source": [
    "w2AdminProdInc = wave2[(wave2[\"Job_Clerical or administrative support\"] == 1) & (wave2[\"Increased_productivity\"] == 1)]\n",
    "len(w2AdminProdInc)"
   ]
  },
  {
   "cell_type": "code",
   "execution_count": 35,
   "metadata": {},
   "outputs": [
    {
     "data": {
      "text/plain": [
       "21"
      ]
     },
     "execution_count": 35,
     "metadata": {},
     "output_type": "execute_result"
    }
   ],
   "source": [
    "w2AdminProdDec = wave2[(wave2[\"Job_Clerical or administrative support\"] == 1) & (wave2[\"Decreased_productivity\"] == 1)]\n",
    "len(w2AdminProdDec)"
   ]
  },
  {
   "cell_type": "code",
   "execution_count": 36,
   "metadata": {},
   "outputs": [
    {
     "data": {
      "text/plain": [
       "18"
      ]
     },
     "execution_count": 36,
     "metadata": {},
     "output_type": "execute_result"
    }
   ],
   "source": [
    "w2TradeProdInc = wave2[(wave2[\"Job_Manufacturing, construction, maintenance, or farming\"] == 1) & (wave2[\"Increased_productivity\"] == 1)]\n",
    "len(w2TradeProdInc)"
   ]
  },
  {
   "cell_type": "code",
   "execution_count": 37,
   "metadata": {},
   "outputs": [
    {
     "data": {
      "text/plain": [
       "22"
      ]
     },
     "execution_count": 37,
     "metadata": {},
     "output_type": "execute_result"
    }
   ],
   "source": [
    "w2TradeProdDec = wave2[(wave2[\"Job_Manufacturing, construction, maintenance, or farming\"] == 1) & (wave2[\"Decreased_productivity\"] == 1)]\n",
    "len(w2TradeProdDec)"
   ]
  },
  {
   "cell_type": "code",
   "execution_count": 38,
   "metadata": {},
   "outputs": [
    {
     "data": {
      "text/plain": [
       "125"
      ]
     },
     "execution_count": 38,
     "metadata": {},
     "output_type": "execute_result"
    }
   ],
   "source": [
    "w2ProProdInc = wave2[(wave2[\"Job_Professional, managerial, or technical\"] == 1) & (wave2[\"Increased_productivity\"] == 1)]\n",
    "len(w2ProProdInc)"
   ]
  },
  {
   "cell_type": "code",
   "execution_count": 39,
   "metadata": {},
   "outputs": [
    {
     "data": {
      "text/plain": [
       "118"
      ]
     },
     "execution_count": 39,
     "metadata": {},
     "output_type": "execute_result"
    }
   ],
   "source": [
    "w2ProProdDec = wave2[(wave2[\"Job_Professional, managerial, or technical\"] == 1) & (wave2[\"Decreased_productivity\"] == 1)]\n",
    "len(w2ProProdDec)"
   ]
  },
  {
   "cell_type": "code",
   "execution_count": 40,
   "metadata": {},
   "outputs": [
    {
     "data": {
      "text/plain": [
       "71"
      ]
     },
     "execution_count": 40,
     "metadata": {},
     "output_type": "execute_result"
    }
   ],
   "source": [
    "w2SalesProdInc = wave2[(wave2[\"Job_Sales or service\"] == 1) & (wave2[\"Increased_productivity\"] == 1)]\n",
    "len(w2SalesProdInc)"
   ]
  },
  {
   "cell_type": "code",
   "execution_count": 41,
   "metadata": {},
   "outputs": [
    {
     "data": {
      "text/plain": [
       "108"
      ]
     },
     "execution_count": 41,
     "metadata": {},
     "output_type": "execute_result"
    }
   ],
   "source": [
    "w2SalesProdDec = wave2[(wave2[\"Job_Sales or service\"] == 1) & (wave2[\"Decreased_productivity\"] == 1)]\n",
    "len(w2SalesProdDec)"
   ]
  },
  {
   "cell_type": "code",
   "execution_count": 42,
   "metadata": {},
   "outputs": [
    {
     "data": {
      "image/png": "[encoded data removed]",
      "text/plain": [
       "<Figure size 432x288 with 1 Axes>"
      ]
     },
     "metadata": {
      "needs_background": "light"
     },
     "output_type": "display_data"
    }
   ],
   "source": [
    "#Plot for Productivity in Wave 2\n",
    "data = {\n",
    "    'Administrative': 50,\n",
    "    'Skilled Trade': 45,\n",
    "    'Pro/Tech': 51,\n",
    "    'Sales' : 40,\n",
    "}\n",
    "\n",
    "data2 = {\n",
    "    'Administrative': 50,\n",
    "    'Skilled Trade': 55,\n",
    "    'Pro/Tech': 49,\n",
    "    'Sales' : 60,\n",
    "}\n",
    "\n",
    "jobs = list(data.keys())\n",
    "values = list(data.values())\n",
    "\n",
    "jobs2 = list(data2.keys())\n",
    "values2 = list(data2.values())\n",
    "\n",
    "purple_Patch = mpatches.Patch(color='purple', label='Increased Productivity')\n",
    "orange_Patch = mpatches.Patch(color='orange', label='Decreased Productivity')\n",
    "\n",
    "plt.ylim(0,65)\n",
    "plt.bar(range(len(data2)), values2, tick_label=jobs2, color=\"orange\")\n",
    "plt.bar(range(len(data)), values, tick_label=jobs, color=\"purple\")\n",
    "\n",
    "plt.ylabel(\"Percentage(%)\")\n",
    "plt.title(\"Productivity During Wave Two\")\n",
    "plt.legend(\n",
    "    bbox_to_anchor=(1.45,1.03),\n",
    "    loc='upper right',\n",
    "    frameon=True,\n",
    "    handles = [purple_Patch,orange_Patch]\n",
    ")\n",
    "\n",
    "plt.show()"
   ]
  },
  {
   "cell_type": "code",
   "execution_count": null,
   "metadata": {},
   "outputs": [],
   "source": []
  }
 ],
 "metadata": {
  "kernelspec": {
   "display_name": "Python 3",
   "language": "python",
   "name": "python3"
  },
  "language_info": {
   "codemirror_mode": {
    "name": "ipython",
    "version": 3
   },
   "file_extension": ".py",
   "mimetype": "text/x-python",
   "name": "python",
   "nbconvert_exporter": "python",
   "pygments_lexer": "ipython3",
   "version": "3.8.5"
  }
 },
 "nbformat": 4,
 "nbformat_minor": 4
}
